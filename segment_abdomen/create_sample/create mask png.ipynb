{
 "cells": [
  {
   "cell_type": "code",
   "execution_count": null,
   "metadata": {},
   "outputs": [],
   "source": [
    "# 10개으 mask와 original"
   ]
  },
  {
   "cell_type": "code",
   "execution_count": 6,
   "metadata": {},
   "outputs": [
    {
     "data": {
      "text/html": [
       "<div>\n",
       "<style scoped>\n",
       "    .dataframe tbody tr th:only-of-type {\n",
       "        vertical-align: middle;\n",
       "    }\n",
       "\n",
       "    .dataframe tbody tr th {\n",
       "        vertical-align: top;\n",
       "    }\n",
       "\n",
       "    .dataframe thead th {\n",
       "        text-align: right;\n",
       "    }\n",
       "</style>\n",
       "<table border=\"1\" class=\"dataframe\">\n",
       "  <thead>\n",
       "    <tr style=\"text-align: right;\">\n",
       "      <th></th>\n",
       "      <th>person_idx</th>\n",
       "      <th>loc_index</th>\n",
       "      <th>1.원본</th>\n",
       "      <th>2.근육</th>\n",
       "      <th>3.내장지방</th>\n",
       "      <th>4.피하지방</th>\n",
       "    </tr>\n",
       "  </thead>\n",
       "  <tbody>\n",
       "    <tr>\n",
       "      <th>0</th>\n",
       "      <td>00003552</td>\n",
       "      <td>70</td>\n",
       "      <td>../../../cpt_data/ct_new/1.원본/00003552/0000355...</td>\n",
       "      <td>../../../cpt_data/ct_new/2.근육/tif/00003552/000...</td>\n",
       "      <td>../../../cpt_data/ct_new/3.내장지방/tif/00003552/0...</td>\n",
       "      <td>../../../cpt_data/ct_new/4.피하지방/tif/00003552/0...</td>\n",
       "    </tr>\n",
       "    <tr>\n",
       "      <th>1</th>\n",
       "      <td>00003552</td>\n",
       "      <td>71</td>\n",
       "      <td>../../../cpt_data/ct_new/1.원본/00003552/0000355...</td>\n",
       "      <td>../../../cpt_data/ct_new/2.근육/tif/00003552/000...</td>\n",
       "      <td>../../../cpt_data/ct_new/3.내장지방/tif/00003552/0...</td>\n",
       "      <td>../../../cpt_data/ct_new/4.피하지방/tif/00003552/0...</td>\n",
       "    </tr>\n",
       "    <tr>\n",
       "      <th>2</th>\n",
       "      <td>00003552</td>\n",
       "      <td>72</td>\n",
       "      <td>../../../cpt_data/ct_new/1.원본/00003552/0000355...</td>\n",
       "      <td>../../../cpt_data/ct_new/2.근육/tif/00003552/000...</td>\n",
       "      <td>../../../cpt_data/ct_new/3.내장지방/tif/00003552/0...</td>\n",
       "      <td>../../../cpt_data/ct_new/4.피하지방/tif/00003552/0...</td>\n",
       "    </tr>\n",
       "    <tr>\n",
       "      <th>3</th>\n",
       "      <td>00003552</td>\n",
       "      <td>73</td>\n",
       "      <td>../../../cpt_data/ct_new/1.원본/00003552/0000355...</td>\n",
       "      <td>../../../cpt_data/ct_new/2.근육/tif/00003552/000...</td>\n",
       "      <td>../../../cpt_data/ct_new/3.내장지방/tif/00003552/0...</td>\n",
       "      <td>../../../cpt_data/ct_new/4.피하지방/tif/00003552/0...</td>\n",
       "    </tr>\n",
       "    <tr>\n",
       "      <th>4</th>\n",
       "      <td>00003552</td>\n",
       "      <td>74</td>\n",
       "      <td>../../../cpt_data/ct_new/1.원본/00003552/0000355...</td>\n",
       "      <td>../../../cpt_data/ct_new/2.근육/tif/00003552/000...</td>\n",
       "      <td>../../../cpt_data/ct_new/3.내장지방/tif/00003552/0...</td>\n",
       "      <td>../../../cpt_data/ct_new/4.피하지방/tif/00003552/0...</td>\n",
       "    </tr>\n",
       "    <tr>\n",
       "      <th>...</th>\n",
       "      <td>...</td>\n",
       "      <td>...</td>\n",
       "      <td>...</td>\n",
       "      <td>...</td>\n",
       "      <td>...</td>\n",
       "      <td>...</td>\n",
       "    </tr>\n",
       "    <tr>\n",
       "      <th>2455</th>\n",
       "      <td>00004237</td>\n",
       "      <td>116</td>\n",
       "      <td>../../../cpt_data/ct_new/1.원본/00004237/0000423...</td>\n",
       "      <td>../../../cpt_data/ct_new/2.근육/tif/00004237/000...</td>\n",
       "      <td>../../../cpt_data/ct_new/3.내장지방/tif/00004237/0...</td>\n",
       "      <td>../../../cpt_data/ct_new/4.피하지방/tif/00004237/0...</td>\n",
       "    </tr>\n",
       "    <tr>\n",
       "      <th>2456</th>\n",
       "      <td>00004237</td>\n",
       "      <td>117</td>\n",
       "      <td>../../../cpt_data/ct_new/1.원본/00004237/0000423...</td>\n",
       "      <td>../../../cpt_data/ct_new/2.근육/tif/00004237/000...</td>\n",
       "      <td>../../../cpt_data/ct_new/3.내장지방/tif/00004237/0...</td>\n",
       "      <td>../../../cpt_data/ct_new/4.피하지방/tif/00004237/0...</td>\n",
       "    </tr>\n",
       "    <tr>\n",
       "      <th>2457</th>\n",
       "      <td>00004237</td>\n",
       "      <td>118</td>\n",
       "      <td>../../../cpt_data/ct_new/1.원본/00004237/0000423...</td>\n",
       "      <td>../../../cpt_data/ct_new/2.근육/tif/00004237/000...</td>\n",
       "      <td>../../../cpt_data/ct_new/3.내장지방/tif/00004237/0...</td>\n",
       "      <td>../../../cpt_data/ct_new/4.피하지방/tif/00004237/0...</td>\n",
       "    </tr>\n",
       "    <tr>\n",
       "      <th>2458</th>\n",
       "      <td>00004237</td>\n",
       "      <td>119</td>\n",
       "      <td>../../../cpt_data/ct_new/1.원본/00004237/0000423...</td>\n",
       "      <td>../../../cpt_data/ct_new/2.근육/tif/00004237/000...</td>\n",
       "      <td>../../../cpt_data/ct_new/3.내장지방/tif/00004237/0...</td>\n",
       "      <td>../../../cpt_data/ct_new/4.피하지방/tif/00004237/0...</td>\n",
       "    </tr>\n",
       "    <tr>\n",
       "      <th>2459</th>\n",
       "      <td>00004237</td>\n",
       "      <td>120</td>\n",
       "      <td>../../../cpt_data/ct_new/1.원본/00004237/0000423...</td>\n",
       "      <td>../../../cpt_data/ct_new/2.근육/tif/00004237/000...</td>\n",
       "      <td>../../../cpt_data/ct_new/3.내장지방/tif/00004237/0...</td>\n",
       "      <td>../../../cpt_data/ct_new/4.피하지방/tif/00004237/0...</td>\n",
       "    </tr>\n",
       "  </tbody>\n",
       "</table>\n",
       "<p>2460 rows × 6 columns</p>\n",
       "</div>"
      ],
      "text/plain": [
       "     person_idx  loc_index                                               1.원본  \\\n",
       "0      00003552         70  ../../../cpt_data/ct_new/1.원본/00003552/0000355...   \n",
       "1      00003552         71  ../../../cpt_data/ct_new/1.원본/00003552/0000355...   \n",
       "2      00003552         72  ../../../cpt_data/ct_new/1.원본/00003552/0000355...   \n",
       "3      00003552         73  ../../../cpt_data/ct_new/1.원본/00003552/0000355...   \n",
       "4      00003552         74  ../../../cpt_data/ct_new/1.원본/00003552/0000355...   \n",
       "...         ...        ...                                                ...   \n",
       "2455   00004237        116  ../../../cpt_data/ct_new/1.원본/00004237/0000423...   \n",
       "2456   00004237        117  ../../../cpt_data/ct_new/1.원본/00004237/0000423...   \n",
       "2457   00004237        118  ../../../cpt_data/ct_new/1.원본/00004237/0000423...   \n",
       "2458   00004237        119  ../../../cpt_data/ct_new/1.원본/00004237/0000423...   \n",
       "2459   00004237        120  ../../../cpt_data/ct_new/1.원본/00004237/0000423...   \n",
       "\n",
       "                                                   2.근육  \\\n",
       "0     ../../../cpt_data/ct_new/2.근육/tif/00003552/000...   \n",
       "1     ../../../cpt_data/ct_new/2.근육/tif/00003552/000...   \n",
       "2     ../../../cpt_data/ct_new/2.근육/tif/00003552/000...   \n",
       "3     ../../../cpt_data/ct_new/2.근육/tif/00003552/000...   \n",
       "4     ../../../cpt_data/ct_new/2.근육/tif/00003552/000...   \n",
       "...                                                 ...   \n",
       "2455  ../../../cpt_data/ct_new/2.근육/tif/00004237/000...   \n",
       "2456  ../../../cpt_data/ct_new/2.근육/tif/00004237/000...   \n",
       "2457  ../../../cpt_data/ct_new/2.근육/tif/00004237/000...   \n",
       "2458  ../../../cpt_data/ct_new/2.근육/tif/00004237/000...   \n",
       "2459  ../../../cpt_data/ct_new/2.근육/tif/00004237/000...   \n",
       "\n",
       "                                                 3.내장지방  \\\n",
       "0     ../../../cpt_data/ct_new/3.내장지방/tif/00003552/0...   \n",
       "1     ../../../cpt_data/ct_new/3.내장지방/tif/00003552/0...   \n",
       "2     ../../../cpt_data/ct_new/3.내장지방/tif/00003552/0...   \n",
       "3     ../../../cpt_data/ct_new/3.내장지방/tif/00003552/0...   \n",
       "4     ../../../cpt_data/ct_new/3.내장지방/tif/00003552/0...   \n",
       "...                                                 ...   \n",
       "2455  ../../../cpt_data/ct_new/3.내장지방/tif/00004237/0...   \n",
       "2456  ../../../cpt_data/ct_new/3.내장지방/tif/00004237/0...   \n",
       "2457  ../../../cpt_data/ct_new/3.내장지방/tif/00004237/0...   \n",
       "2458  ../../../cpt_data/ct_new/3.내장지방/tif/00004237/0...   \n",
       "2459  ../../../cpt_data/ct_new/3.내장지방/tif/00004237/0...   \n",
       "\n",
       "                                                 4.피하지방  \n",
       "0     ../../../cpt_data/ct_new/4.피하지방/tif/00003552/0...  \n",
       "1     ../../../cpt_data/ct_new/4.피하지방/tif/00003552/0...  \n",
       "2     ../../../cpt_data/ct_new/4.피하지방/tif/00003552/0...  \n",
       "3     ../../../cpt_data/ct_new/4.피하지방/tif/00003552/0...  \n",
       "4     ../../../cpt_data/ct_new/4.피하지방/tif/00003552/0...  \n",
       "...                                                 ...  \n",
       "2455  ../../../cpt_data/ct_new/4.피하지방/tif/00004237/0...  \n",
       "2456  ../../../cpt_data/ct_new/4.피하지방/tif/00004237/0...  \n",
       "2457  ../../../cpt_data/ct_new/4.피하지방/tif/00004237/0...  \n",
       "2458  ../../../cpt_data/ct_new/4.피하지방/tif/00004237/0...  \n",
       "2459  ../../../cpt_data/ct_new/4.피하지방/tif/00004237/0...  \n",
       "\n",
       "[2460 rows x 6 columns]"
      ]
     },
     "execution_count": 6,
     "metadata": {},
     "output_type": "execute_result"
    }
   ],
   "source": [
    "import cv2\n",
    "import collections\n",
    "import time \n",
    "from tqdm import tqdm\n",
    "from PIL import Image\n",
    "from functools import partial\n",
    "train_on_gpu = True\n",
    "\n",
    "import copy\n",
    "import torch\n",
    "import numpy as np # linear algebra\n",
    "import pandas as pd # data processing, CSV file I/O (e.g. pd.read_csv)\n",
    "#import nibabel as nib\n",
    "import subprocess\n",
    "import matplotlib.pyplot as plt\n",
    "import cv2\n",
    "import pydicom\n",
    "from PIL import Image\n",
    "import time\n",
    "import sys\n",
    "from IPython.display import clear_output\n",
    "\n",
    "from sklearn.model_selection import train_test_split\n",
    "from sklearn.metrics import roc_auc_score\n",
    "\n",
    "import torchvision\n",
    "import torchvision.transforms as transforms\n",
    "import torch\n",
    "from torch.utils.data import TensorDataset, DataLoader,Dataset\n",
    "import torch.nn as nn\n",
    "import torch.nn.functional as F\n",
    "import torch.optim as optim\n",
    "from torch.optim import lr_scheduler\n",
    "from torch.utils.data.sampler import SubsetRandomSampler\n",
    "from torch.optim.lr_scheduler import StepLR, ReduceLROnPlateau, CosineAnnealingLR\n",
    "\n",
    "import albumentations as albu\n",
    "from albumentations import Compose,Resize,OneOf,RandomBrightness,RandomContrast,Normalize,HorizontalFlip,Blur,ElasticTransform,GridDistortion,OpticalDistortion,GaussNoise \n",
    "from albumentations.pytorch import ToTensor\n",
    "\n",
    "import segmentation_models_pytorch as smp\n",
    "import os\n",
    "\n",
    "import re\n",
    "def export_num(string):\n",
    "    find_num = re.compile('[0-9.]+')\n",
    "    number = find_num.findall(string[-10:-4])\n",
    "    return int(number[0])\n",
    "\n",
    "seed = 1015\n",
    "np.random.seed(seed)\n",
    "torch.manual_seed(seed)\n",
    "torch.cuda.manual_seed(seed)\n",
    "\n",
    "\n",
    "PATH = \"../../../cpt_data/ct_new/\"\n",
    "\n",
    "\n",
    "\n",
    "images_paths = []\n",
    "\n",
    "for person_id in os.listdir(PATH + f\"1.원본/\"):\n",
    "    original_list = os.listdir(PATH + f\"1.원본/{person_id}\")\n",
    "    original_path = pd.DataFrame(\n",
    "                                {\"1.원본\" : original_list},\n",
    "                                index = list(map(export_num, original_list))\n",
    "                               ).sort_index()\n",
    "    original_max = original_path.index.max()\n",
    "    \n",
    "    # 근욱을 기준으로 생성\n",
    "    musle_list = os.listdir(PATH + f\"2.근육/tif/{person_id}\")\n",
    "    file_names = pd.DataFrame({\"2.근육\" : musle_list},\n",
    "                                index = list(map(export_num, musle_list))\n",
    "                               ).sort_index()\n",
    "    file_names[\"2.근육\"] = PATH + f\"2.근육/tif/{person_id}/\" +\\\n",
    "                            file_names[\"2.근육\"]\n",
    "    musle_min = file_names.index.min()\n",
    "    musle_max = file_names.index.max()\n",
    "    \n",
    "    # 내장지방, 피하지방 추가하기 \n",
    "    for name in ['3.내장지방', '4.피하지방']:\n",
    "        part_list = os.listdir(PATH + f\"{name}/tif/{person_id}\")\n",
    "        part_paths = pd.DataFrame( {name : part_list},\n",
    "                                    index = list(map(export_num, part_list))\n",
    "                                   ).sort_index()\n",
    "        file_names[name] = part_paths.loc[musle_min:musle_max+1]\n",
    "        file_names[name] = PATH + f\"{name}/tif/{person_id}/\" +\\\n",
    "                            file_names[name]\n",
    "    \n",
    "    \n",
    "    # 잘못된 원본 path 변환하기\n",
    "    original_path.index = original_max - original_path.index\n",
    "    file_names[\"1.원본\"] = original_path.loc[musle_max:musle_min-1]\n",
    "    file_names[\"1.원본\"] = PATH + f\"1.원본/{person_id}/\" +\\\n",
    "                            file_names[\"1.원본\"]\n",
    "    \n",
    "    file_names[\"person_idx\"] = person_id\n",
    "    file_names = file_names.reset_index()\n",
    "    file_names = file_names.rename({'index':'loc_index'}, axis = 1)\n",
    "    file_names = file_names.set_index(['person_idx', 'loc_index'])\n",
    "    file_names = file_names[['1.원본', '2.근육','3.내장지방','4.피하지방']]\n",
    "    images_paths.append(file_names)\n",
    "    \n",
    "    \n",
    "images_paths =  pd.concat(images_paths)\n",
    "images_paths = images_paths.reset_index()\n",
    "images_paths"
   ]
  },
  {
   "cell_type": "code",
   "execution_count": 45,
   "metadata": {},
   "outputs": [
    {
     "name": "stdout",
     "output_type": "stream",
     "text": [
      "65\n",
      "65\n",
      "65\n",
      "65\n",
      "65\n",
      "65\n",
      "65\n",
      "65\n",
      "65\n",
      "65\n",
      "65\n"
     ]
    }
   ],
   "source": [
    "for index in range(len(images_paths)):\n",
    "    if index > 10:\n",
    "        break\n",
    "    index = np.random.randint(len(images_paths))   \n",
    "    print(len(images_paths.loc[index, '1.원본']))\n",
    "    if len(images_paths.loc[index, '1.원본']) != 65:\n",
    "        continue\n",
    "        \n",
    "    musle = np.array(Image.open(images_paths.loc[index, '2.근육'])).astype(np.uint8) * 255\n",
    "    visceral = np.array(Image.open(images_paths.loc[index, '3.내장지방'])).astype(np.uint8) * 255\n",
    "    subcutaneous = np.array(Image.open(images_paths.loc[index, '4.피하지방'])).astype(np.uint8) * 255\n",
    "    \n",
    "    subprocess.call([\"cp\",\n",
    "                 images_paths.loc[index, '1.원본'],\n",
    "                 f\"sample_png/원본/{images_paths.loc[index, '1.원본'][-26:-4]}.dcm\"] ,shell = False)\n",
    "    cv2.imwrite(f\"sample_png/근육/{images_paths.loc[index, '1.원본'][-26:-4]}.png\", musle)\n",
    "    cv2.imwrite(f\"sample_png/내장지방/{images_paths.loc[index, '1.원본'][-26:-4]}.png\", visceral)\n",
    "    cv2.imwrite(f\"sample_png/피하지방/{images_paths.loc[index, '1.원본'][-26:-4]}.png\", subcutaneous)    "
   ]
  },
  {
   "cell_type": "code",
   "execution_count": 33,
   "metadata": {},
   "outputs": [
    {
     "data": {
      "text/plain": [
       "26"
      ]
     },
     "execution_count": 33,
     "metadata": {},
     "output_type": "execute_result"
    }
   ],
   "source": [
    "len(\"00003399_converted_148.dcm\")"
   ]
  },
  {
   "cell_type": "code",
   "execution_count": 41,
   "metadata": {},
   "outputs": [
    {
     "data": {
      "text/plain": [
       "'00003399_converted_148'"
      ]
     },
     "execution_count": 41,
     "metadata": {},
     "output_type": "execute_result"
    }
   ],
   "source": [
    "images_paths.loc[index, '1.원본'][-26:-4]"
   ]
  },
  {
   "cell_type": "code",
   "execution_count": 37,
   "metadata": {},
   "outputs": [
    {
     "data": {
      "text/plain": [
       "65"
      ]
     },
     "execution_count": 37,
     "metadata": {},
     "output_type": "execute_result"
    }
   ],
   "source": [
    "for index in range(len(images_paths.loc[index, '1.원본'])):\n",
    "    print()\n",
    "    if index > 10:\n",
    "        break"
   ]
  },
  {
   "cell_type": "code",
   "execution_count": 49,
   "metadata": {},
   "outputs": [],
   "source": [
    "index = 1227\n",
    "image = np.array(pydicom.dcmread(f\"sample_png/원본/00003580_converted_147.dcm\").pixel_array)\n",
    "image[(image<=0)] = 0\n",
    "image[(image>200)&(image<850)] = 200\n",
    "image[(image>=850)] = image[(image>=850)] - 650\n",
    "image[(image>=500)] = 500\n",
    "image = image/2"
   ]
  },
  {
   "cell_type": "code",
   "execution_count": 50,
   "metadata": {},
   "outputs": [],
   "source": [
    "musle = np.array(Image.open(f\"sample_png/근육/00003580_converted_147.png\")).astype(np.uint8) * 255"
   ]
  },
  {
   "cell_type": "code",
   "execution_count": 51,
   "metadata": {},
   "outputs": [
    {
     "data": {
      "image/png": "[encoded data removed]",
      "text/plain": [
       "<Figure size 432x288 with 1 Axes>"
      ]
     },
     "metadata": {
      "needs_background": "light"
     },
     "output_type": "display_data"
    }
   ],
   "source": [
    "plt.imshow(musle)\n",
    "plt.imshow(image, alpha = 0.5)\n",
    "plt.show()"
   ]
  },
  {
   "cell_type": "code",
   "execution_count": null,
   "metadata": {},
   "outputs": [],
   "source": []
  }
 ],
 "metadata": {
  "kernelspec": {
   "display_name": "bdg",
   "language": "python",
   "name": "bdg"
  },
  "language_info": {
   "codemirror_mode": {
    "name": "ipython",
    "version": 3
   },
   "file_extension": ".py",
   "mimetype": "text/x-python",
   "name": "python",
   "nbconvert_exporter": "python",
   "pygments_lexer": "ipython3",
   "version": "3.6.12"
  }
 },
 "nbformat": 4,
 "nbformat_minor": 4
}
