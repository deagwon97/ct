{
 "cells": [
  {
   "cell_type": "code",
   "execution_count": 1,
   "metadata": {},
   "outputs": [],
   "source": [
    "import pandas as pd"
   ]
  },
  {
   "cell_type": "code",
   "execution_count": 3,
   "metadata": {},
   "outputs": [],
   "source": [
    "report_df = pd.read_csv(\"report_df.csv\")"
   ]
  },
  {
   "cell_type": "code",
   "execution_count": 28,
   "metadata": {},
   "outputs": [],
   "source": [
    "report_df.iloc[:-len(report_df)//5].to_csv(\"train_data_report.csv\", index = False)"
   ]
  },
  {
   "cell_type": "code",
   "execution_count": 27,
   "metadata": {},
   "outputs": [],
   "source": [
    "report_df.iloc[-len(report_df)//5:].to_csv(\"test_data_report.csv\", index = False)"
   ]
  },
  {
   "cell_type": "code",
   "execution_count": 26,
   "metadata": {},
   "outputs": [
    {
     "data": {
      "text/plain": [
       "person_idx              2856.511547\n",
       "loc_index                 97.051836\n",
       "muscle_jaccard             0.874703\n",
       "visceral_jaccard           0.717796\n",
       "subcutaneous_jaccard       0.892204\n",
       "background_jaccard         0.965016\n",
       "muscle_dice                0.931238\n",
       "visceral_dice              0.825926\n",
       "subcutaneous_dice          0.939970\n",
       "background_dice            0.982112\n",
       "muscle_tpf                 0.947130\n",
       "visceral_tpf               0.813029\n",
       "subcutaneous_tpf           0.938680\n",
       "background_tpf             0.981233\n",
       "muscle_fpf                 0.006810\n",
       "visceral_fpf               0.008166\n",
       "subcutaneous_fpf           0.004318\n",
       "background_fpf             0.064330\n",
       "dtype: float64"
      ]
     },
     "execution_count": 26,
     "metadata": {},
     "output_type": "execute_result"
    }
   ],
   "source": [
    "report_df.iloc[:-len(report_df)//5].mean()"
   ]
  },
  {
   "cell_type": "code",
   "execution_count": 25,
   "metadata": {},
   "outputs": [
    {
     "data": {
      "text/plain": [
       "person_idx              2760.469208\n",
       "loc_index                 97.454490\n",
       "muscle_jaccard             0.875082\n",
       "visceral_jaccard           0.725789\n",
       "subcutaneous_jaccard       0.893059\n",
       "background_jaccard         0.964148\n",
       "muscle_dice                0.931383\n",
       "visceral_dice              0.833061\n",
       "subcutaneous_dice          0.940052\n",
       "background_dice            0.981601\n",
       "muscle_tpf                 0.945990\n",
       "visceral_tpf               0.821652\n",
       "subcutaneous_tpf           0.938406\n",
       "background_tpf             0.981094\n",
       "muscle_fpf                 0.006886\n",
       "visceral_fpf               0.008431\n",
       "subcutaneous_fpf           0.004162\n",
       "background_fpf             0.064943\n",
       "dtype: float64"
      ]
     },
     "execution_count": 25,
     "metadata": {},
     "output_type": "execute_result"
    }
   ],
   "source": [
    "report_df.iloc[-len(report_df)//5:].mean()"
   ]
  },
  {
   "cell_type": "code",
   "execution_count": 16,
   "metadata": {},
   "outputs": [
    {
     "data": {
      "text/plain": [
       "1798"
      ]
     },
     "execution_count": 16,
     "metadata": {},
     "output_type": "execute_result"
    }
   ],
   "source": [
    "len(report_df.person_idx.value_counts())"
   ]
  },
  {
   "cell_type": "code",
   "execution_count": null,
   "metadata": {},
   "outputs": [],
   "source": []
  }
 ],
 "metadata": {
  "kernelspec": {
   "display_name": "Python 3",
   "language": "python",
   "name": "python3"
  },
  "language_info": {
   "codemirror_mode": {
    "name": "ipython",
    "version": 3
   },
   "file_extension": ".py",
   "mimetype": "text/x-python",
   "name": "python",
   "nbconvert_exporter": "python",
   "pygments_lexer": "ipython3",
   "version": "3.8.3"
  }
 },
 "nbformat": 4,
 "nbformat_minor": 4
}
